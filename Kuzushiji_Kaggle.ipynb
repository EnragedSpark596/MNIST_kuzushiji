{
 "cells": [
  {
   "cell_type": "code",
   "execution_count": null,
   "metadata": {},
   "outputs": [],
   "source": [
    "\"\"\"\n",
    "https://www.kaggle.com/anokas/kuzushiji\n",
    "\n",
    "Kuzushiji-MNIST is a drop-in replacement for the MNIST dataset (28x28 grayscale, 70,000 images), provided in\n",
    "the original MNIST format as well as a NumPy format. Since MNIST restricts us to 10 classes, we chose one\n",
    "character to represent each of the 10 rows of Hiragana when creating Kuzushiji-MNIST.\n",
    "\n",
    "kmnist-[train/test]-[images/labels].npz: These files contain the Kuzushiji-MNIST as compressed numpy arrays,\n",
    "and can be read with: arr = np.load(filename)['arr_0']. We recommend using these files to load the dataset.\n",
    "\"\"\""
   ]
  },
  {
   "cell_type": "code",
   "execution_count": 1,
   "metadata": {},
   "outputs": [
    {
     "name": "stderr",
     "output_type": "stream",
     "text": [
      "C:\\Users\\ianda\\AppData\\Local\\Continuum\\anaconda3\\lib\\site-packages\\h5py\\__init__.py:36: FutureWarning: Conversion of the second argument of issubdtype from `float` to `np.floating` is deprecated. In future, it will be treated as `np.float64 == np.dtype(float).type`.\n",
      "  from ._conv import register_converters as _register_converters\n"
     ]
    }
   ],
   "source": [
    "from PIL import Image\n",
    "import numpy as np\n",
    "import pandas as pd\n",
    "import os\n",
    "import cv2\n",
    "import tensorflow\n",
    "from tensorflow import keras\n",
    "from tensorflow.keras.datasets import mnist\n",
    "from tensorflow.keras.models import Sequential\n",
    "from tensorflow.keras.layers import Dense, Dropout, Conv2D, MaxPooling2D, Flatten\n",
    "from tensorflow.keras.optimizers import RMSprop\n",
    "\n",
    "import matplotlib.pyplot as plt\n",
    "%matplotlib inline"
   ]
  },
  {
   "cell_type": "code",
   "execution_count": 20,
   "metadata": {},
   "outputs": [],
   "source": [
    "filepath = 'C:/Users/ianda/Desktop/Dropbox (NSF CORE)/Coding Projects/Python/Udemy_MachineLearning/Kuzushiji/'"
   ]
  },
  {
   "cell_type": "code",
   "execution_count": 21,
   "metadata": {},
   "outputs": [],
   "source": [
    "# https://docs.scipy.org/doc/numpy-1.13.0/reference/generated/numpy.load.html\n",
    "# https://stackoverflow.com/questions/44289302/how-do-i-view-data-object-contents-within-an-npz-file\n",
    "# https://stackoverflow.com/questions/32682928/loading-arrays-from-npz-files-in-pythhon\n",
    "# https://stackoverflow.com/questions/48429408/open-and-view-npz-file-in-python\n",
    "\n",
    "train_imgs = np.load(filepath+'k49-train-imgs.npz')['arr_0']\n",
    "test_imgs = np.load(filepath+'k49-test-imgs.npz')['arr_0']\n",
    "train_labels = np.load(filepath+'k49-train-labels.npz')['arr_0']\n",
    "test_labels = np.load(filepath+'k49-test-labels.npz')['arr_0']"
   ]
  },
  {
   "cell_type": "code",
   "execution_count": 22,
   "metadata": {},
   "outputs": [
    {
     "data": {
      "text/plain": [
       "232365"
      ]
     },
     "execution_count": 22,
     "metadata": {},
     "output_type": "execute_result"
    }
   ],
   "source": [
    "len(train_imgs)"
   ]
  },
  {
   "cell_type": "code",
   "execution_count": 23,
   "metadata": {},
   "outputs": [
    {
     "data": {
      "text/plain": [
       "numpy.ndarray"
      ]
     },
     "execution_count": 23,
     "metadata": {},
     "output_type": "execute_result"
    }
   ],
   "source": [
    "type(train_imgs)"
   ]
  },
  {
   "cell_type": "code",
   "execution_count": 24,
   "metadata": {},
   "outputs": [],
   "source": [
    "train_imgs_len = len(train_imgs)\n",
    "test_imgs_len = len(test_imgs)"
   ]
  },
  {
   "cell_type": "code",
   "execution_count": 28,
   "metadata": {},
   "outputs": [],
   "source": [
    "train_imgs_x = train_imgs.reshape(train_imgs_len, 784) # 60000 items, flattened from 28x28 to linear 784\n",
    "test_imgs_x = test_imgs.reshape(test_imgs_len, 784)\n",
    "\n",
    "# normalize data (starts as 0-255 integer)\n",
    "# step 1 converts them to float\n",
    "train_imgs_x = train_imgs_x.astype('float32')\n",
    "test_imgs_x = test_imgs_x.astype('float32')\n",
    "\n",
    "#step 2 converts them to range 0-1\n",
    "train_imgs_x /= 255\n",
    "test_imgs_x /= 255"
   ]
  },
  {
   "cell_type": "code",
   "execution_count": 27,
   "metadata": {},
   "outputs": [
    {
     "name": "stdout",
     "output_type": "stream",
     "text": [
      "49\n"
     ]
    }
   ],
   "source": [
    "num_classes=len(np.unique(train_labels))\n",
    "print(num_classes)"
   ]
  },
  {
   "cell_type": "code",
   "execution_count": 29,
   "metadata": {},
   "outputs": [],
   "source": [
    "train_labels_y = tensorflow.keras.utils.to_categorical(train_labels, num_classes)\n",
    "test_labels_y = tensorflow.keras.utils.to_categorical(test_labels, num_classes) # converts to one hot"
   ]
  },
  {
   "cell_type": "code",
   "execution_count": 31,
   "metadata": {},
   "outputs": [
    {
     "name": "stdout",
     "output_type": "stream",
     "text": [
      "[0. 0. 0. 0. 0. 0. 0. 0. 0. 0. 0. 0. 0. 0. 0. 0. 0. 0. 0. 0. 0. 0. 0. 0.\n",
      " 0. 1. 0. 0. 0. 0. 0. 0. 0. 0. 0. 0. 0. 0. 0. 0. 0. 0. 0. 0. 0. 0. 0. 0.\n",
      " 0.]\n"
     ]
    },
    {
     "data": {
      "image/png": "[encoded data removed]",
      "text/plain": [
       "<Figure size 432x288 with 1 Axes>"
      ]
     },
     "metadata": {},
     "output_type": "display_data"
    }
   ],
   "source": [
    "def display_sample(num):\n",
    "    #Print the one-hot array of this sample's label \n",
    "    print(train_labels_y[num])  \n",
    "    #Print the label converted back to a number\n",
    "    label = train_labels_y[num].argmax(axis=0)\n",
    "    #Reshape the 768 values to a 28x28 image\n",
    "    image = train_imgs_x[num].reshape([28,28])\n",
    "    plt.title('Sample: %d  Label: %d' % (num, label))\n",
    "    plt.imshow(image, cmap=plt.get_cmap('gray_r'))\n",
    "    plt.show()\n",
    "    \n",
    "display_sample(1234)"
   ]
  },
  {
   "cell_type": "code",
   "execution_count": 41,
   "metadata": {},
   "outputs": [
    {
     "name": "stdout",
     "output_type": "stream",
     "text": [
      "train_images: (232365, 28, 28)\n",
      "train_label: (232365,)\n",
      "test_data: (38547, 28, 28)\n",
      "test_label: (38547,)\n"
     ]
    }
   ],
   "source": [
    "print(\"train_images: {}\".format(train_imgs.shape))\n",
    "print(\"train_label: {}\".format(train_labels.shape))\n",
    "print(\"test_data: {}\".format(test_imgs.shape))\n",
    "print(\"test_label: {}\".format(test_labels.shape))"
   ]
  },
  {
   "cell_type": "code",
   "execution_count": null,
   "metadata": {},
   "outputs": [],
   "source": [
    "# Flat model"
   ]
  },
  {
   "cell_type": "code",
   "execution_count": 49,
   "metadata": {},
   "outputs": [],
   "source": [
    "model = Sequential() # means you can add layers one at a time\n",
    "model.add(Dense(512, activation='relu', input_shape=(784,))) # dense first hidden layer of 512 neurons\n",
    "model.add(Dense(num_classes, activation='softmax'))"
   ]
  },
  {
   "cell_type": "code",
   "execution_count": 50,
   "metadata": {},
   "outputs": [
    {
     "name": "stdout",
     "output_type": "stream",
     "text": [
      "_________________________________________________________________\n",
      "Layer (type)                 Output Shape              Param #   \n",
      "=================================================================\n",
      "dense_8 (Dense)              (None, 512)               401920    \n",
      "_________________________________________________________________\n",
      "dense_9 (Dense)              (None, 49)                25137     \n",
      "=================================================================\n",
      "Total params: 427,057\n",
      "Trainable params: 427,057\n",
      "Non-trainable params: 0\n",
      "_________________________________________________________________\n"
     ]
    }
   ],
   "source": [
    "model.summary()"
   ]
  },
  {
   "cell_type": "code",
   "execution_count": 51,
   "metadata": {},
   "outputs": [],
   "source": [
    "model.compile(loss='categorical_crossentropy',\n",
    "              optimizer=RMSprop(),\n",
    "              metrics=['accuracy'])"
   ]
  },
  {
   "cell_type": "code",
   "execution_count": 52,
   "metadata": {},
   "outputs": [
    {
     "name": "stdout",
     "output_type": "stream",
     "text": [
      "Train on 232365 samples, validate on 38547 samples\n",
      "Epoch 1/10\n",
      " - 33s - loss: 0.7657 - acc: 0.8033 - val_loss: 0.8234 - val_acc: 0.7946\n",
      "Epoch 2/10\n",
      " - 29s - loss: 0.4071 - acc: 0.8937 - val_loss: 0.7334 - val_acc: 0.8259\n",
      "Epoch 3/10\n",
      " - 27s - loss: 0.3267 - acc: 0.9144 - val_loss: 0.7127 - val_acc: 0.8379\n",
      "Epoch 4/10\n",
      " - 27s - loss: 0.2799 - acc: 0.9270 - val_loss: 0.7297 - val_acc: 0.8418\n",
      "Epoch 5/10\n",
      " - 28s - loss: 0.2491 - acc: 0.9354 - val_loss: 0.7538 - val_acc: 0.8419\n",
      "Epoch 6/10\n",
      " - 29s - loss: 0.2222 - acc: 0.9429 - val_loss: 0.7967 - val_acc: 0.8439\n",
      "Epoch 7/10\n",
      " - 26s - loss: 0.2018 - acc: 0.9480 - val_loss: 0.8334 - val_acc: 0.8414\n",
      "Epoch 8/10\n",
      " - 24s - loss: 0.1840 - acc: 0.9524 - val_loss: 0.8706 - val_acc: 0.8440\n",
      "Epoch 9/10\n",
      " - 24s - loss: 0.1690 - acc: 0.9565 - val_loss: 0.8924 - val_acc: 0.8442\n",
      "Epoch 10/10\n",
      " - 27s - loss: 0.1556 - acc: 0.9598 - val_loss: 0.9522 - val_acc: 0.8437\n"
     ]
    }
   ],
   "source": [
    "history = model.fit(train_imgs_x, train_labels_y,\n",
    "                    batch_size=100,\n",
    "                    epochs=10,\n",
    "                    verbose=2,\n",
    "                    validation_data=(test_imgs_x, test_labels_y))"
   ]
  },
  {
   "cell_type": "code",
   "execution_count": null,
   "metadata": {},
   "outputs": [],
   "source": [
    "#2D model"
   ]
  },
  {
   "cell_type": "code",
   "execution_count": 53,
   "metadata": {},
   "outputs": [],
   "source": [
    "from tensorflow.keras import backend as K\n",
    "\n",
    "if K.image_data_format() == 'channels_first':\n",
    "    train_imgs_2Dx = train_imgs.reshape(train_imgs.shape[0], 1, 28, 28)\n",
    "    test_imgs_2Dx = test_imgs.reshape(test_imgs.shape[0], 1, 28, 28)\n",
    "    input_shape = (1, 28, 28)\n",
    "else:\n",
    "    train_imgs_2Dx = train_imgs.reshape(train_imgs.shape[0], 28, 28, 1)\n",
    "    test_imgs_2Dx = test_imgs.reshape(test_imgs.shape[0], 28, 28, 1)\n",
    "    input_shape = (28, 28, 1)\n",
    "    \n",
    "train_imgs_2Dx = train_imgs_2Dx.astype('float32') # data originally 8-bit bytes (256 bits?)?\n",
    "test_imgs_2Dx = test_imgs_2Dx.astype('float32')\n",
    "train_imgs_2Dx /= 255 # to transform images data to a value between 0 and 1\n",
    "test_imgs_2Dx /= 255"
   ]
  },
  {
   "cell_type": "code",
   "execution_count": 57,
   "metadata": {},
   "outputs": [],
   "source": [
    "train_labels_2Dy = tensorflow.keras.utils.to_categorical(train_labels, num_classes)\n",
    "test_labels_2Dy = tensorflow.keras.utils.to_categorical(test_labels, num_classes) # converts to one hot"
   ]
  },
  {
   "cell_type": "code",
   "execution_count": 55,
   "metadata": {},
   "outputs": [],
   "source": [
    "model = Sequential() # allows model to be built in layers\n",
    "model.add(Conv2D(32, kernel_size=(3, 3), # 32 regional fields that model will usw to sample the image\n",
    "                 activation='relu',\n",
    "                 input_shape=input_shape)) # input shape defined in line 6/10\n",
    "# 64 3x3 kernels\n",
    "model.add(Conv2D(64, (3, 3), activation='relu'))\n",
    "# Reduce by taking the max of each 2x2 block\n",
    "model.add(MaxPooling2D(pool_size=(2, 2))) # max pixel found (removes blurry ones to save space?)\n",
    "# Dropout to avoid overfitting\n",
    "model.add(Dropout(0.25))\n",
    "# Flatten the results to one dimension for passing into our final layer\n",
    "model.add(Flatten())\n",
    "# A hidden layer to learn with\n",
    "model.add(Dense(128, activation='relu'))\n",
    "# Another dropout\n",
    "model.add(Dropout(0.5))\n",
    "# Final categorization from 0-9 with softmax\n",
    "model.add(Dense(num_classes, activation='softmax'))"
   ]
  },
  {
   "cell_type": "code",
   "execution_count": 56,
   "metadata": {},
   "outputs": [
    {
     "name": "stdout",
     "output_type": "stream",
     "text": [
      "_________________________________________________________________\n",
      "Layer (type)                 Output Shape              Param #   \n",
      "=================================================================\n",
      "conv2d_6 (Conv2D)            (None, 26, 26, 32)        320       \n",
      "_________________________________________________________________\n",
      "conv2d_7 (Conv2D)            (None, 24, 24, 64)        18496     \n",
      "_________________________________________________________________\n",
      "max_pooling2d_1 (MaxPooling2 (None, 12, 12, 64)        0         \n",
      "_________________________________________________________________\n",
      "dropout_2 (Dropout)          (None, 12, 12, 64)        0         \n",
      "_________________________________________________________________\n",
      "flatten_1 (Flatten)          (None, 9216)              0         \n",
      "_________________________________________________________________\n",
      "dense_10 (Dense)             (None, 128)               1179776   \n",
      "_________________________________________________________________\n",
      "dropout_3 (Dropout)          (None, 128)               0         \n",
      "_________________________________________________________________\n",
      "dense_11 (Dense)             (None, 49)                6321      \n",
      "=================================================================\n",
      "Total params: 1,204,913\n",
      "Trainable params: 1,204,913\n",
      "Non-trainable params: 0\n",
      "_________________________________________________________________\n"
     ]
    }
   ],
   "source": [
    "model.summary()"
   ]
  },
  {
   "cell_type": "code",
   "execution_count": 59,
   "metadata": {},
   "outputs": [],
   "source": [
    "model.compile(loss='categorical_crossentropy',\n",
    "              optimizer='adam',\n",
    "              metrics=['accuracy'])"
   ]
  },
  {
   "cell_type": "code",
   "execution_count": 60,
   "metadata": {},
   "outputs": [
    {
     "name": "stdout",
     "output_type": "stream",
     "text": [
      "Train on 232365 samples, validate on 38547 samples\n",
      "Epoch 1/10\n",
      " - 526s - loss: 0.9914 - acc: 0.7350 - val_loss: 0.6483 - val_acc: 0.8260\n",
      "Epoch 2/10\n",
      " - 534s - loss: 0.5612 - acc: 0.8440 - val_loss: 0.4840 - val_acc: 0.8732\n",
      "Epoch 3/10\n",
      " - 313s - loss: 0.4520 - acc: 0.8729 - val_loss: 0.4118 - val_acc: 0.8917\n",
      "Epoch 4/10\n",
      " - 313s - loss: 0.3866 - acc: 0.8902 - val_loss: 0.3886 - val_acc: 0.8984\n",
      "Epoch 5/10\n",
      " - 312s - loss: 0.3445 - acc: 0.9016 - val_loss: 0.3594 - val_acc: 0.9057\n",
      "Epoch 6/10\n",
      " - 312s - loss: 0.3151 - acc: 0.9094 - val_loss: 0.3419 - val_acc: 0.9124\n",
      "Epoch 7/10\n",
      " - 302s - loss: 0.2904 - acc: 0.9146 - val_loss: 0.3340 - val_acc: 0.9136\n",
      "Epoch 8/10\n",
      " - 299s - loss: 0.2755 - acc: 0.9190 - val_loss: 0.3210 - val_acc: 0.9173\n",
      "Epoch 9/10\n",
      " - 299s - loss: 0.2566 - acc: 0.9240 - val_loss: 0.3212 - val_acc: 0.9186\n",
      "Epoch 10/10\n",
      " - 299s - loss: 0.2446 - acc: 0.9274 - val_loss: 0.3240 - val_acc: 0.9184\n"
     ]
    }
   ],
   "source": [
    "history = model.fit(train_imgs_2Dx, train_labels_2Dy,\n",
    "                    batch_size=100,\n",
    "                    epochs=10,\n",
    "                    verbose=2, # right for jupyter\n",
    "                    validation_data=(test_imgs_2Dx, test_labels_2Dy))"
   ]
  },
  {
   "cell_type": "code",
   "execution_count": null,
   "metadata": {},
   "outputs": [],
   "source": [
    "# 2D with different tuning - more like malaria kaggle"
   ]
  },
  {
   "cell_type": "code",
   "execution_count": 61,
   "metadata": {},
   "outputs": [],
   "source": [
    "model = Sequential() # allows model to be built in layers\n",
    "#input layer\n",
    "model.add(Conv2D(32, kernel_size=(3, 3), # 32 regional fields that model will usw to sample the image\n",
    "                 activation='relu',\n",
    "                 input_shape=input_shape)) # input shape defined in line 6/10\n",
    "\n",
    "model.add(Conv2D(64, (3, 3), activation='relu'))\n",
    "model.add(MaxPooling2D(pool_size=(2, 2)))\n",
    "model.add(Conv2D(filters=32,kernel_size=2,padding=\"same\",activation=\"relu\"))\n",
    "model.add(MaxPooling2D(pool_size=(2, 2)))\n",
    "model.add(Conv2D(filters=16,kernel_size=2,padding=\"same\",activation=\"relu\"))\n",
    "model.add(MaxPooling2D(pool_size=(2, 2)))\n",
    "model.add(Dropout(0.25))\n",
    "model.add(Flatten())\n",
    "model.add(Dense(128, activation='relu'))\n",
    "model.add(Dropout(0.25))\n",
    "model.add(Dense(num_classes, activation='softmax'))"
   ]
  },
  {
   "cell_type": "code",
   "execution_count": 62,
   "metadata": {},
   "outputs": [
    {
     "name": "stdout",
     "output_type": "stream",
     "text": [
      "_________________________________________________________________\n",
      "Layer (type)                 Output Shape              Param #   \n",
      "=================================================================\n",
      "conv2d_8 (Conv2D)            (None, 26, 26, 32)        320       \n",
      "_________________________________________________________________\n",
      "conv2d_9 (Conv2D)            (None, 24, 24, 64)        18496     \n",
      "_________________________________________________________________\n",
      "max_pooling2d_2 (MaxPooling2 (None, 12, 12, 64)        0         \n",
      "_________________________________________________________________\n",
      "conv2d_10 (Conv2D)           (None, 12, 12, 32)        8224      \n",
      "_________________________________________________________________\n",
      "max_pooling2d_3 (MaxPooling2 (None, 6, 6, 32)          0         \n",
      "_________________________________________________________________\n",
      "conv2d_11 (Conv2D)           (None, 6, 6, 16)          2064      \n",
      "_________________________________________________________________\n",
      "max_pooling2d_4 (MaxPooling2 (None, 3, 3, 16)          0         \n",
      "_________________________________________________________________\n",
      "dropout_4 (Dropout)          (None, 3, 3, 16)          0         \n",
      "_________________________________________________________________\n",
      "flatten_2 (Flatten)          (None, 144)               0         \n",
      "_________________________________________________________________\n",
      "dense_12 (Dense)             (None, 128)               18560     \n",
      "_________________________________________________________________\n",
      "dropout_5 (Dropout)          (None, 128)               0         \n",
      "_________________________________________________________________\n",
      "dense_13 (Dense)             (None, 49)                6321      \n",
      "=================================================================\n",
      "Total params: 53,985\n",
      "Trainable params: 53,985\n",
      "Non-trainable params: 0\n",
      "_________________________________________________________________\n"
     ]
    }
   ],
   "source": [
    "model.summary()"
   ]
  },
  {
   "cell_type": "code",
   "execution_count": 63,
   "metadata": {},
   "outputs": [],
   "source": [
    "model.compile(loss='categorical_crossentropy',\n",
    "              optimizer='adam',\n",
    "              metrics=['accuracy'])"
   ]
  },
  {
   "cell_type": "code",
   "execution_count": 64,
   "metadata": {},
   "outputs": [
    {
     "name": "stdout",
     "output_type": "stream",
     "text": [
      "Train on 232365 samples, validate on 38547 samples\n",
      "Epoch 1/10\n",
      " - 292s - loss: 1.2347 - acc: 0.6627 - val_loss: 0.8207 - val_acc: 0.7797\n",
      "Epoch 2/10\n",
      " - 294s - loss: 0.6766 - acc: 0.8082 - val_loss: 0.6661 - val_acc: 0.8174\n",
      "Epoch 3/10\n",
      " - 294s - loss: 0.5725 - acc: 0.8357 - val_loss: 0.5345 - val_acc: 0.8543\n",
      "Epoch 4/10\n",
      " - 295s - loss: 0.5225 - acc: 0.8500 - val_loss: 0.4900 - val_acc: 0.8652\n",
      "Epoch 5/10\n",
      " - 295s - loss: 0.4877 - acc: 0.8603 - val_loss: 0.4607 - val_acc: 0.8735\n",
      "Epoch 6/10\n",
      " - 293s - loss: 0.4666 - acc: 0.8660 - val_loss: 0.4386 - val_acc: 0.8810\n",
      "Epoch 7/10\n",
      " - 295s - loss: 0.4446 - acc: 0.8719 - val_loss: 0.4189 - val_acc: 0.8875\n",
      "Epoch 8/10\n",
      " - 293s - loss: 0.4296 - acc: 0.8761 - val_loss: 0.4050 - val_acc: 0.8915\n",
      "Epoch 9/10\n",
      " - 293s - loss: 0.4183 - acc: 0.8792 - val_loss: 0.3991 - val_acc: 0.8929\n",
      "Epoch 10/10\n",
      " - 304s - loss: 0.4069 - acc: 0.8826 - val_loss: 0.3896 - val_acc: 0.8950\n"
     ]
    }
   ],
   "source": [
    "history = model.fit(train_imgs_2Dx, train_labels_2Dy,\n",
    "                    batch_size=100,\n",
    "                    epochs=10,\n",
    "                    verbose=2, # right for jupyter\n",
    "                    validation_data=(test_imgs_2Dx, test_labels_2Dy))"
   ]
  },
  {
   "cell_type": "code",
   "execution_count": null,
   "metadata": {},
   "outputs": [],
   "source": []
  }
 ],
 "metadata": {
  "kernelspec": {
   "display_name": "Python 3",
   "language": "python",
   "name": "python3"
  },
  "language_info": {
   "codemirror_mode": {
    "name": "ipython",
    "version": 3
   },
   "file_extension": ".py",
   "mimetype": "text/x-python",
   "name": "python",
   "nbconvert_exporter": "python",
   "pygments_lexer": "ipython3",
   "version": "3.6.5"
  }
 },
 "nbformat": 4,
 "nbformat_minor": 2
}
